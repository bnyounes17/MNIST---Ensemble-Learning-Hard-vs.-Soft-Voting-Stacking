{
 "cells": [
  {
   "cell_type": "code",
   "execution_count": 1,
   "id": "9e0f8ba0",
   "metadata": {},
   "outputs": [],
   "source": [
    "import numpy as np"
   ]
  },
  {
   "cell_type": "code",
   "execution_count": 2,
   "id": "1bdee281",
   "metadata": {},
   "outputs": [],
   "source": [
    "from sklearn.model_selection import train_test_split\n",
    "from sklearn.metrics import mean_squared_error"
   ]
  },
  {
   "cell_type": "code",
   "execution_count": 3,
   "id": "38a75856",
   "metadata": {},
   "outputs": [],
   "source": [
    "from sklearn.ensemble import RandomForestClassifier\n",
    "from sklearn.ensemble import ExtraTreesClassifier\n",
    "from sklearn.svm import LinearSVC\n",
    "from sklearn.neural_network import MLPClassifier"
   ]
  },
  {
   "cell_type": "code",
   "execution_count": 4,
   "id": "857c3a87",
   "metadata": {},
   "outputs": [],
   "source": [
    "np.random.seed(42)"
   ]
  },
  {
   "cell_type": "code",
   "execution_count": 5,
   "id": "58b22583",
   "metadata": {},
   "outputs": [],
   "source": [
    "from sklearn.datasets import fetch_openml\n",
    "\n",
    "mnist = fetch_openml('mnist_784', version=1, as_frame=False)\n",
    "mnist.target = mnist.target.astype(np.uint8)"
   ]
  },
  {
   "cell_type": "code",
   "execution_count": 6,
   "id": "b78f7e86",
   "metadata": {},
   "outputs": [],
   "source": [
    "X = mnist['data']\n",
    "y = mnist['target']"
   ]
  },
  {
   "cell_type": "code",
   "execution_count": 7,
   "id": "59751b61",
   "metadata": {},
   "outputs": [
    {
     "data": {
      "text/plain": [
       "(70000, 784)"
      ]
     },
     "execution_count": 7,
     "metadata": {},
     "output_type": "execute_result"
    }
   ],
   "source": [
    "X.shape"
   ]
  },
  {
   "cell_type": "code",
   "execution_count": 8,
   "id": "36b3084b",
   "metadata": {},
   "outputs": [
    {
     "data": {
      "text/plain": [
       "(70000,)"
      ]
     },
     "execution_count": 8,
     "metadata": {},
     "output_type": "execute_result"
    }
   ],
   "source": [
    "y.shape"
   ]
  },
  {
   "cell_type": "markdown",
   "id": "b77b74e2",
   "metadata": {},
   "source": [
    "Applying Ensemble of models to MNIST data then comparing individual classifiers performance to the Ensemble"
   ]
  },
  {
   "cell_type": "code",
   "execution_count": 9,
   "id": "ea1bf7eb",
   "metadata": {},
   "outputs": [],
   "source": [
    "X_train_val, X_test, y_train_val, y_test = train_test_split(mnist.data, mnist.target, test_size=10000, random_state=42)\n",
    "X_train, X_val, y_train, y_val = train_test_split(X_train_val, y_train_val, test_size=10000, random_state=42)"
   ]
  },
  {
   "cell_type": "code",
   "execution_count": 10,
   "id": "b1aa4a9a",
   "metadata": {},
   "outputs": [],
   "source": [
    "# Initialize the Random Forest classifier\n",
    "rf_clf = RandomForestClassifier(n_estimators=100, random_state=42)\n",
    "ext_clf = ExtraTreesClassifier(n_estimators=100, random_state=42)\n",
    "svc_clf = LinearSVC(max_iter = 100, tol=20, random_state=42)\n",
    "mlp_clf = MLPClassifier(random_state=42)"
   ]
  },
  {
   "cell_type": "code",
   "execution_count": 11,
   "id": "842a841c",
   "metadata": {},
   "outputs": [],
   "source": [
    "from sklearn.calibration import CalibratedClassifierCV\n",
    "\n",
    "calibrated_linear_svc = CalibratedClassifierCV(svc_clf, method='sigmoid')"
   ]
  },
  {
   "cell_type": "code",
   "execution_count": 12,
   "id": "a026619a",
   "metadata": {},
   "outputs": [
    {
     "name": "stdout",
     "output_type": "stream",
     "text": [
      "Training the estimator:  RandomForestClassifier(random_state=42)\n",
      "Training the estimator:  ExtraTreesClassifier(random_state=42)\n",
      "Training the estimator:  LinearSVC(max_iter=100, random_state=42, tol=20)\n",
      "Training the estimator:  MLPClassifier(random_state=42)\n"
     ]
    }
   ],
   "source": [
    "estimators = [rf_clf, ext_clf, svc_clf, mlp_clf]\n",
    "for estimator in estimators:\n",
    "    print('Training the estimator: ', estimator)\n",
    "    estimator.fit(X_train, y_train)"
   ]
  },
  {
   "cell_type": "code",
   "execution_count": 13,
   "id": "4fa7b616",
   "metadata": {},
   "outputs": [
    {
     "data": {
      "text/plain": [
       "[0.9692, 0.9715, 0.859, 0.9577]"
      ]
     },
     "execution_count": 13,
     "metadata": {},
     "output_type": "execute_result"
    }
   ],
   "source": [
    "[estimator.score(X_val, y_val) for estimator in estimators]"
   ]
  },
  {
   "cell_type": "markdown",
   "id": "4d259491",
   "metadata": {},
   "source": [
    "Clearly the linear SVC is the less efficient"
   ]
  },
  {
   "cell_type": "markdown",
   "id": "8eb4c9ae",
   "metadata": {},
   "source": [
    "Lets try hard voting"
   ]
  },
  {
   "cell_type": "code",
   "execution_count": 15,
   "id": "8b8df954",
   "metadata": {},
   "outputs": [],
   "source": [
    "from sklearn.ensemble import VotingClassifier"
   ]
  },
  {
   "cell_type": "code",
   "execution_count": 16,
   "id": "734966f5",
   "metadata": {},
   "outputs": [],
   "source": [
    "voting_clf = VotingClassifier(estimators = [('rf', rf_clf), ('ext', ext_clf), ('svc', svc_clf), ('mlp', mlp_clf)], voting='hard')"
   ]
  },
  {
   "cell_type": "code",
   "execution_count": 17,
   "id": "e9442335",
   "metadata": {},
   "outputs": [
    {
     "data": {
      "text/plain": [
       "VotingClassifier(estimators=[('rf', RandomForestClassifier(random_state=42)),\n",
       "                             ('ext', ExtraTreesClassifier(random_state=42)),\n",
       "                             ('svc',\n",
       "                              LinearSVC(max_iter=100, random_state=42, tol=20)),\n",
       "                             ('mlp', MLPClassifier(random_state=42))])"
      ]
     },
     "execution_count": 17,
     "metadata": {},
     "output_type": "execute_result"
    }
   ],
   "source": [
    "voting_clf.fit(X_train, y_train)"
   ]
  },
  {
   "cell_type": "code",
   "execution_count": 18,
   "id": "781376ee",
   "metadata": {},
   "outputs": [
    {
     "data": {
      "text/plain": [
       "0.9703"
      ]
     },
     "execution_count": 18,
     "metadata": {},
     "output_type": "execute_result"
    }
   ],
   "source": [
    "voting_clf.score(X_val, y_val)"
   ]
  },
  {
   "cell_type": "markdown",
   "id": "3b704d4f",
   "metadata": {},
   "source": [
    "The hard voting has a better score than all single estimators"
   ]
  },
  {
   "cell_type": "code",
   "execution_count": 19,
   "id": "02b01cba",
   "metadata": {},
   "outputs": [
    {
     "data": {
      "text/plain": [
       "0.9685"
      ]
     },
     "execution_count": 19,
     "metadata": {},
     "output_type": "execute_result"
    }
   ],
   "source": [
    "voting_clf_soft = VotingClassifier(estimators = [('rf', rf_clf), ('ext', ext_clf), ('svc_calib', calibrated_linear_svc), ('mlp', mlp_clf)], voting='soft')\n",
    "voting_clf_soft.fit(X_train, y_train)\n",
    "voting_clf_soft.score(X_val, y_val)"
   ]
  },
  {
   "cell_type": "markdown",
   "id": "ded5041a",
   "metadata": {},
   "source": [
    "The soft voting is performing less than hard voting and even from random forest or extra trees classifications"
   ]
  },
  {
   "cell_type": "markdown",
   "id": "6eabe79d",
   "metadata": {},
   "source": [
    "Let's remove the Linear SVC and see if the hard voting can perform better"
   ]
  },
  {
   "cell_type": "code",
   "execution_count": 20,
   "id": "22c00d79",
   "metadata": {},
   "outputs": [
    {
     "data": {
      "text/plain": [
       "VotingClassifier(estimators=[('rf', RandomForestClassifier(random_state=42)),\n",
       "                             ('ext', ExtraTreesClassifier(random_state=42)),\n",
       "                             ('svc', None),\n",
       "                             ('mlp', MLPClassifier(random_state=42))])"
      ]
     },
     "execution_count": 20,
     "metadata": {},
     "output_type": "execute_result"
    }
   ],
   "source": [
    "voting_clf.set_params(svc=None)"
   ]
  },
  {
   "cell_type": "code",
   "execution_count": 21,
   "id": "e59a6075",
   "metadata": {},
   "outputs": [
    {
     "data": {
      "text/plain": [
       "VotingClassifier(estimators=[('rf', RandomForestClassifier(random_state=42)),\n",
       "                             ('ext', ExtraTreesClassifier(random_state=42)),\n",
       "                             ('svc', None),\n",
       "                             ('mlp', MLPClassifier(random_state=42))])"
      ]
     },
     "execution_count": 21,
     "metadata": {},
     "output_type": "execute_result"
    }
   ],
   "source": [
    "voting_clf"
   ]
  },
  {
   "cell_type": "code",
   "execution_count": 22,
   "id": "e5c416d5",
   "metadata": {},
   "outputs": [],
   "source": [
    "# remove the svc in order to evaluate the score\n",
    "del voting_clf.estimators_[2]"
   ]
  },
  {
   "cell_type": "code",
   "execution_count": 23,
   "id": "ccb63b48",
   "metadata": {},
   "outputs": [
    {
     "data": {
      "text/plain": [
       "0.9727"
      ]
     },
     "execution_count": 23,
     "metadata": {},
     "output_type": "execute_result"
    }
   ],
   "source": [
    "voting_clf.score(X_val, y_val)"
   ]
  },
  {
   "cell_type": "markdown",
   "id": "08c25f71",
   "metadata": {},
   "source": [
    "The performance is slightly better than before"
   ]
  },
  {
   "cell_type": "markdown",
   "id": "d2b62df7",
   "metadata": {},
   "source": [
    "Let's see again the soft voting without Linear SVC model"
   ]
  },
  {
   "cell_type": "code",
   "execution_count": 24,
   "id": "31c431d5",
   "metadata": {},
   "outputs": [],
   "source": [
    "voting_clf.voting='soft'"
   ]
  },
  {
   "cell_type": "code",
   "execution_count": 25,
   "id": "30b4fefd",
   "metadata": {},
   "outputs": [
    {
     "data": {
      "text/plain": [
       "0.9658"
      ]
     },
     "execution_count": 25,
     "metadata": {},
     "output_type": "execute_result"
    }
   ],
   "source": [
    "voting_clf.score(X_val, y_val)"
   ]
  },
  {
   "cell_type": "markdown",
   "id": "5ee93a7a",
   "metadata": {},
   "source": [
    "with the Linear SVC taken in consideration in the previous soft voting we have a better result compared to voting without "
   ]
  },
  {
   "cell_type": "code",
   "execution_count": 26,
   "id": "023e7e25",
   "metadata": {},
   "outputs": [
    {
     "data": {
      "text/plain": [
       "0.971"
      ]
     },
     "execution_count": 26,
     "metadata": {},
     "output_type": "execute_result"
    }
   ],
   "source": [
    "voting_clf.voting = \"hard\"\n",
    "voting_clf.score(X_test, y_test)"
   ]
  },
  {
   "cell_type": "code",
   "execution_count": 27,
   "id": "8f85e19a",
   "metadata": {},
   "outputs": [
    {
     "data": {
      "text/plain": [
       "[0.9645, 0.9691, 0.9608]"
      ]
     },
     "execution_count": 27,
     "metadata": {},
     "output_type": "execute_result"
    }
   ],
   "source": [
    "[estimator.score(X_test, y_test) for estimator in voting_clf.estimators_]"
   ]
  },
  {
   "cell_type": "markdown",
   "id": "2ac540d9",
   "metadata": {},
   "source": [
    "the hard voting is slightly better than the best estimator in this case the extra trees classifier "
   ]
  },
  {
   "cell_type": "markdown",
   "id": "e0d1d053",
   "metadata": {},
   "source": [
    "Training a blender, and together with the classifiers they form a stacking ensemble"
   ]
  },
  {
   "cell_type": "markdown",
   "id": "d913e0a9",
   "metadata": {},
   "source": [
    "Let's build a blender and stacking ensemble"
   ]
  },
  {
   "cell_type": "code",
   "execution_count": 28,
   "id": "db6801b5",
   "metadata": {},
   "outputs": [],
   "source": [
    "prediction_estimators = [estimator.predict(X_val) for estimator in estimators]"
   ]
  },
  {
   "cell_type": "code",
   "execution_count": 29,
   "id": "84f9455e",
   "metadata": {},
   "outputs": [
    {
     "data": {
      "text/plain": [
       "[array([5, 8, 2, ..., 7, 6, 7], dtype=uint8),\n",
       " array([5, 8, 2, ..., 7, 6, 7], dtype=uint8),\n",
       " array([5, 8, 3, ..., 7, 6, 7], dtype=uint8),\n",
       " array([5, 8, 2, ..., 7, 6, 7], dtype=uint8)]"
      ]
     },
     "execution_count": 29,
     "metadata": {},
     "output_type": "execute_result"
    }
   ],
   "source": [
    "prediction_estimators"
   ]
  },
  {
   "cell_type": "code",
   "execution_count": 30,
   "id": "d992de05",
   "metadata": {},
   "outputs": [
    {
     "data": {
      "text/plain": [
       "array([[5, 5, 5, 5],\n",
       "       [8, 8, 8, 8],\n",
       "       [2, 2, 3, 2],\n",
       "       ...,\n",
       "       [7, 7, 7, 7],\n",
       "       [6, 6, 6, 6],\n",
       "       [7, 7, 7, 7]], dtype=uint8)"
      ]
     },
     "execution_count": 30,
     "metadata": {},
     "output_type": "execute_result"
    }
   ],
   "source": [
    "# Transpose of the prediction\n",
    "prediction_estimators_trans = np.array(prediction_estimators).T\n",
    "prediction_estimators_trans"
   ]
  },
  {
   "cell_type": "code",
   "execution_count": 31,
   "id": "2d2a3731",
   "metadata": {},
   "outputs": [
    {
     "data": {
      "text/plain": [
       "[0.5287, 0.4827, 2.2303, 0.8029]"
      ]
     },
     "execution_count": 31,
     "metadata": {},
     "output_type": "execute_result"
    }
   ],
   "source": [
    "mse = [mean_squared_error(y_val, y_pred) for y_pred in prediction_estimators]\n",
    "mse"
   ]
  },
  {
   "cell_type": "markdown",
   "id": "f2d3200c",
   "metadata": {},
   "source": [
    "we can see that the minimum mean squared error is related to the extra-trees classifier model"
   ]
  },
  {
   "cell_type": "code",
   "execution_count": 32,
   "id": "335181d8",
   "metadata": {},
   "outputs": [
    {
     "data": {
      "text/plain": [
       "ExtraTreesClassifier(bootstrap=True, n_estimators=190, oob_score=True,\n",
       "                     random_state=42)"
      ]
     },
     "execution_count": 32,
     "metadata": {},
     "output_type": "execute_result"
    }
   ],
   "source": [
    "rnd_forest_blender = ExtraTreesClassifier(n_estimators=190, bootstrap=True, oob_score=True, random_state=42)\n",
    "rnd_forest_blender.fit(prediction_estimators_trans, y_val)"
   ]
  },
  {
   "cell_type": "code",
   "execution_count": 33,
   "id": "f1e63deb",
   "metadata": {},
   "outputs": [
    {
     "data": {
      "text/plain": [
       "0.9678"
      ]
     },
     "execution_count": 33,
     "metadata": {},
     "output_type": "execute_result"
    }
   ],
   "source": [
    "rnd_forest_blender.oob_score_"
   ]
  },
  {
   "cell_type": "markdown",
   "id": "686f45e5",
   "metadata": {},
   "source": [
    "Let's validate the blender with the test set"
   ]
  },
  {
   "cell_type": "code",
   "execution_count": 34,
   "id": "2f5a3e65",
   "metadata": {},
   "outputs": [
    {
     "data": {
      "text/plain": [
       "array([[8, 8, 8, 8],\n",
       "       [4, 4, 4, 4],\n",
       "       [8, 8, 8, 8],\n",
       "       ...,\n",
       "       [3, 3, 3, 3],\n",
       "       [8, 8, 3, 8],\n",
       "       [3, 3, 3, 3]], dtype=uint8)"
      ]
     },
     "execution_count": 34,
     "metadata": {},
     "output_type": "execute_result"
    }
   ],
   "source": [
    "prediction_test = [estimator.predict(X_test) for estimator in estimators]\n",
    "prediction_test_trans = np.array(prediction_test).T\n",
    "prediction_test_trans"
   ]
  },
  {
   "cell_type": "code",
   "execution_count": 35,
   "id": "d2b90c11",
   "metadata": {},
   "outputs": [
    {
     "data": {
      "text/plain": [
       "array([8, 4, 8, ..., 3, 8, 3], dtype=uint8)"
      ]
     },
     "execution_count": 35,
     "metadata": {},
     "output_type": "execute_result"
    }
   ],
   "source": [
    "y_pred_test =  rnd_forest_blender.predict(prediction_test_trans)\n",
    "\n",
    "y_pred_test"
   ]
  },
  {
   "cell_type": "code",
   "execution_count": 36,
   "id": "37ddf982",
   "metadata": {},
   "outputs": [
    {
     "data": {
      "text/plain": [
       "0.9684"
      ]
     },
     "execution_count": 36,
     "metadata": {},
     "output_type": "execute_result"
    }
   ],
   "source": [
    "from sklearn.metrics import accuracy_score\n",
    "\n",
    "accuracy_score(y_pred_test, y_test)"
   ]
  },
  {
   "cell_type": "markdown",
   "id": "c0eb808f",
   "metadata": {},
   "source": [
    "The stacking ensemble doesn't perfom as well as the voting or any individual model classifiers."
   ]
  },
  {
   "cell_type": "code",
   "execution_count": null,
   "id": "70e9ad1c",
   "metadata": {},
   "outputs": [],
   "source": []
  }
 ],
 "metadata": {
  "kernelspec": {
   "display_name": "Python 3 (ipykernel)",
   "language": "python",
   "name": "python3"
  },
  "language_info": {
   "codemirror_mode": {
    "name": "ipython",
    "version": 3
   },
   "file_extension": ".py",
   "mimetype": "text/x-python",
   "name": "python",
   "nbconvert_exporter": "python",
   "pygments_lexer": "ipython3",
   "version": "3.9.12"
  }
 },
 "nbformat": 4,
 "nbformat_minor": 5
}
